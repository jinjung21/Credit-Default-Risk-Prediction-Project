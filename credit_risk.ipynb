{
 "cells": [
  {
   "cell_type": "code",
   "execution_count": 165,
   "metadata": {},
   "outputs": [],
   "source": [
    "#   Random forest: https://www.datacamp.com/tutorial/random-forests-classifier-python\n",
    "#   XGBoost: https://www.datacamp.com/tutorial/xgboost-in-python"
   ]
  },
  {
   "cell_type": "code",
   "execution_count": 166,
   "metadata": {},
   "outputs": [],
   "source": [
    "import pandas as pd\n",
    "import numpy as np\n",
    "import matplotlib.pyplot as pyplot\n",
    "\n",
    "from sklearn.tree import DecisionTreeClassifier # Import Decision Tree Classifier\n",
    "from sklearn.ensemble import RandomForestClassifier\n",
    "from sklearn.model_selection import train_test_split # Import train_test_split function\n",
    "from sklearn import metrics #Import scikit-learn metrics module for accuracy calculation\n",
    "from sklearn.preprocessing import OrdinalEncoder\n",
    "from sklearn import datasets\n",
    "from sklearn import metrics  # Import scikit-learn metrics module for accuracy calculation\n",
    "from sklearn.metrics import roc_auc_score, accuracy_score, precision_score, recall_score, f1_score\n",
    "from sklearn.model_selection import GridSearchCV"
   ]
  },
  {
   "cell_type": "code",
   "execution_count": 167,
   "metadata": {},
   "outputs": [],
   "source": [
    "df_app = pd.read_csv(\"data/application_train.csv\", encoding='utf-8')\n",
    "df_bur = pd.read_csv(\"data/bureau.csv\", encoding='utf-8')\n",
    "df_bur_bal = pd.read_csv(\"data/bureau_balance.csv\", encoding='utf-8')"
   ]
  },
  {
   "cell_type": "code",
   "execution_count": 168,
   "metadata": {},
   "outputs": [],
   "source": [
    "df_bur['AMT_CREDIT_MAX_OVERDUE'].fillna(0, inplace=True)\n",
    "creditMax_df = df_bur.groupby(['SK_ID_CURR'])['AMT_CREDIT_MAX_OVERDUE'].mean()"
   ]
  },
  {
   "cell_type": "code",
   "execution_count": 169,
   "metadata": {},
   "outputs": [],
   "source": [
    "#df_bur['CREDIT_DAY_OVERDUE']\n",
    "result = df_bur[df_bur.CREDIT_DAY_OVERDUE != 0]\n",
    "creditDay_df = df_bur.groupby(['SK_ID_CURR'])['CREDIT_DAY_OVERDUE'].max()\n"
   ]
  },
  {
   "cell_type": "code",
   "execution_count": 170,
   "metadata": {},
   "outputs": [],
   "source": [
    "df_bur_bal.dtypes\n",
    "status_mapping = {'C': 0, 'X': 0, '0': 0, '1': 1, '2': 2, '5': 5}\n",
    "df_bur_bal['STATUS'] = df_bur_bal['STATUS'].map(status_mapping)"
   ]
  },
  {
   "cell_type": "code",
   "execution_count": 171,
   "metadata": {},
   "outputs": [],
   "source": [
    "status_df = df_bur_bal.groupby(['SK_ID_BUREAU'])['STATUS'].max()"
   ]
  },
  {
   "cell_type": "code",
   "execution_count": 172,
   "metadata": {},
   "outputs": [],
   "source": [
    "df_bur2 = df_bur.merge(status_df, on='SK_ID_BUREAU', how='left')\n",
    "df_bur2['STATUS'].fillna(0, inplace=True)"
   ]
  },
  {
   "cell_type": "code",
   "execution_count": 173,
   "metadata": {},
   "outputs": [],
   "source": [
    "status2_df = df_bur2.groupby(['SK_ID_CURR'])['STATUS'].max()"
   ]
  },
  {
   "cell_type": "code",
   "execution_count": 174,
   "metadata": {},
   "outputs": [],
   "source": [
    "df_app2 = df_app.merge(creditMax_df, on='SK_ID_CURR', how='left')\n",
    "df_app2 = df_app2.merge(creditDay_df, on='SK_ID_CURR', how='left')\n",
    "df_app2 = df_app2.merge(status2_df, on='SK_ID_CURR', how='left')"
   ]
  },
  {
   "cell_type": "code",
   "execution_count": 175,
   "metadata": {},
   "outputs": [],
   "source": [
    "col_to_ignore = []\n",
    "for col in df_app2.columns:\n",
    "    if df_app2[col].isna().sum().sum() > 100000:\n",
    "        col_to_ignore.append(col)\n",
    "        # print(col, df_app2[col].isna().sum().sum())\n",
    "        \n",
    "df_app2.drop(columns=col_to_ignore, inplace=True)\n"
   ]
  },
  {
   "cell_type": "code",
   "execution_count": 176,
   "metadata": {},
   "outputs": [],
   "source": [
    "# split dataset in features and target variable\n",
    "feature_cols = df_app2.columns[2:]\n",
    "X = df_app2[feature_cols] # Features\n",
    "y = df_app2.TARGET # Target variable"
   ]
  },
  {
   "cell_type": "code",
   "execution_count": 177,
   "metadata": {},
   "outputs": [
    {
     "data": {
      "text/plain": [
       "SK_ID_CURR                      int64\n",
       "TARGET                          int64\n",
       "NAME_CONTRACT_TYPE             object\n",
       "CODE_GENDER                    object\n",
       "FLAG_OWN_CAR                   object\n",
       "                               ...   \n",
       "AMT_REQ_CREDIT_BUREAU_QRT     float64\n",
       "AMT_REQ_CREDIT_BUREAU_YEAR    float64\n",
       "AMT_CREDIT_MAX_OVERDUE        float64\n",
       "CREDIT_DAY_OVERDUE            float64\n",
       "STATUS                        float64\n",
       "Length: 76, dtype: object"
      ]
     },
     "execution_count": 177,
     "metadata": {},
     "output_type": "execute_result"
    }
   ],
   "source": [
    "df_app2.dtypes"
   ]
  },
  {
   "cell_type": "code",
   "execution_count": 178,
   "metadata": {},
   "outputs": [],
   "source": [
    "cols = [column for column in df_app2.columns if df_app2[column].dtype == 'object']"
   ]
  },
  {
   "cell_type": "code",
   "execution_count": 179,
   "metadata": {},
   "outputs": [
    {
     "name": "stderr",
     "output_type": "stream",
     "text": [
      "/var/folders/dx/32z24qqj6qb145m6gvlz1jvc0000gn/T/ipykernel_97906/606387130.py:3: SettingWithCopyWarning: \n",
      "A value is trying to be set on a copy of a slice from a DataFrame.\n",
      "Try using .loc[row_indexer,col_indexer] = value instead\n",
      "\n",
      "See the caveats in the documentation: https://pandas.pydata.org/pandas-docs/stable/user_guide/indexing.html#returning-a-view-versus-a-copy\n",
      "  X[cols] = enc.transform(df_app2[cols])\n"
     ]
    }
   ],
   "source": [
    "enc = OrdinalEncoder()\n",
    "enc.fit(df_app2[cols])\n",
    "X[cols] = enc.transform(df_app2[cols])"
   ]
  },
  {
   "cell_type": "code",
   "execution_count": 180,
   "metadata": {},
   "outputs": [
    {
     "name": "stderr",
     "output_type": "stream",
     "text": [
      "/var/folders/dx/32z24qqj6qb145m6gvlz1jvc0000gn/T/ipykernel_97906/2534066105.py:1: SettingWithCopyWarning: \n",
      "A value is trying to be set on a copy of a slice from a DataFrame\n",
      "\n",
      "See the caveats in the documentation: https://pandas.pydata.org/pandas-docs/stable/user_guide/indexing.html#returning-a-view-versus-a-copy\n",
      "  X.fillna(0, inplace=True)\n"
     ]
    }
   ],
   "source": [
    "X.fillna(0, inplace=True)"
   ]
  },
  {
   "cell_type": "code",
   "execution_count": 186,
   "metadata": {},
   "outputs": [],
   "source": [
    "# Split dataset into training set and test set\n",
    "X_train, X_test, y_train, y_test = train_test_split(X, y, test_size=0.25, random_state=21, stratify=y) # 70% training and 30% test"
   ]
  },
  {
   "cell_type": "code",
   "execution_count": 200,
   "metadata": {},
   "outputs": [],
   "source": [
    "#Create a Gaussian Classifier\n",
    "clf=RandomForestClassifier(class_weight=\"balanced\")\n",
    "\n",
    "grid_values = {'n_estimators': list(range(20, 101, 40)), 'max_depth': list(range(5, 16, 5)), 'min_samples_split': list(range(2, 9, 2))}\n",
    "grid_clf = GridSearchCV(clf, param_grid=grid_values, scoring='roc_auc')\n",
    "\n",
    "#Train the model using the training sets y_pred=clf.predict(X_test)\n",
    "grid_clf.fit(X_train,y_train)\n",
    "\n",
    "y_pred=grid_clf.predict(X_test)"
   ]
  },
  {
   "cell_type": "code",
   "execution_count": 201,
   "metadata": {},
   "outputs": [
    {
     "name": "stdout",
     "output_type": "stream",
     "text": [
      "ROC AUC score: 0.668927686502746\n",
      "Accuracy: 0.7196467129738027\n",
      "Precision: 0.16489803048168042\n",
      "Recall score: 0.6084434418304866\n",
      "F1 score: 0.2594743171276413\n"
     ]
    }
   ],
   "source": [
    "# Model Accuracy, how often is the classifier correct?\n",
    "print(\"ROC AUC score:\", roc_auc_score(y_test, y_pred))\n",
    "print(\"Accuracy:\", accuracy_score(y_test, y_pred))\n",
    "print(\"Precision:\", precision_score(y_test, y_pred))\n",
    "print(\"Recall score:\", recall_score(y_test, y_pred))\n",
    "print(\"F1 score:\", f1_score(y_test, y_pred))\n"
   ]
  },
  {
   "cell_type": "code",
   "execution_count": null,
   "metadata": {},
   "outputs": [],
   "source": []
  }
 ],
 "metadata": {
  "kernelspec": {
   "display_name": "venv",
   "language": "python",
   "name": "python3"
  },
  "language_info": {
   "codemirror_mode": {
    "name": "ipython",
    "version": 3
   },
   "file_extension": ".py",
   "mimetype": "text/x-python",
   "name": "python",
   "nbconvert_exporter": "python",
   "pygments_lexer": "ipython3",
   "version": "3.9.6"
  },
  "orig_nbformat": 4,
  "vscode": {
   "interpreter": {
    "hash": "5329a259f233b079615b4d10840c0ce0c99a89a7cf13c25875be7265afbd65d1"
   }
  }
 },
 "nbformat": 4,
 "nbformat_minor": 2
}
